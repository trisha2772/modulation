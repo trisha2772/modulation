{
 "cells": [
  {
   "cell_type": "code",
   "execution_count": 16,
   "metadata": {
    "collapsed": false
   },
   "outputs": [],
   "source": [
    "import pandas as pd\n",
    "import seaborn as sns\n",
    "import matplotlib.pyplot as plt\n",
    "import random\n",
    "plt.show()\n",
    "%matplotlib inline "
   ]
  },
  {
   "cell_type": "code",
   "execution_count": 17,
   "metadata": {
    "collapsed": true
   },
   "outputs": [],
   "source": [
    "sequence = \"ACTGATCGTAGCAGTAC\"\n"
   ]
  },
  {
   "cell_type": "code",
   "execution_count": 18,
   "metadata": {
    "collapsed": true
   },
   "outputs": [],
   "source": [
    "#creating the markov chain\n",
    "\n",
    "#################\n",
    "# probabilities #\n",
    "# ntnt = 56     #\n",
    "# ntdel = 44    #\n",
    "# delnt = 35    #\n",
    "# deldel = 65   #\n",
    "# initnt = 50   #\n",
    "# initdel = 50  #\n",
    "#################\n",
    "\n",
    "#generates a sequence with induced misses\n",
    "def markovChain(sequence):\n",
    "    newSequence = \"\"\n",
    "    for i in sequence:\n",
    "        #for the very first value of the generated sequence\n",
    "        if not newSequence:\n",
    "            #initial sequence probability\n",
    "            init_random = random.randint(1, 100)\n",
    "            if init_random > 50:\n",
    "                #del\n",
    "                newSequence += \"-\"\n",
    "            else:\n",
    "                #write\n",
    "                newSequence += i\n",
    "\n",
    "        #for the rest of the generated values in the new sequence\n",
    "        elif newSequence[-1] is \"-\":\n",
    "            del_random = random.randint(1, 100)\n",
    "            if del_random <= 35:\n",
    "                #write\n",
    "                newSequence += i\n",
    "            else:\n",
    "                #delete\n",
    "                newSequence += \"-\"\n",
    "\n",
    "        else:\n",
    "            nt_random = random.randint(1, 100)\n",
    "            if nt_random > 56:\n",
    "                #deletion\n",
    "                newSequence += \"-\"\n",
    "            else:\n",
    "                #write\n",
    "                newSequence += i\n",
    "    return newSequence\n"
   ]
  },
  {
   "cell_type": "code",
   "execution_count": 19,
   "metadata": {
    "collapsed": false
   },
   "outputs": [
    {
     "name": "stdout",
     "output_type": "stream",
     "text": [
      "['-CT-----TAGC---AC', '-----TCGTAGC-G---', 'AC-GAT-G----AGTAC', '-C-GAT-G--GC-G---', '---G--C-TA----T--', 'ACT----GTA-----A-', '-CTGATCGT--C--T-C', 'ACTGATCGTAG-AGT--', '-------------G---', 'A-----CG---C-GTAC']\n"
     ]
    }
   ],
   "source": [
    "data = []\n",
    "for i in range(10000):\n",
    "    data.append(markovChain(sequence))\n",
    "\n",
    "print(data[0:10])\n",
    "\n",
    "    "
   ]
  },
  {
   "cell_type": "code",
   "execution_count": 20,
   "metadata": {
    "collapsed": true
   },
   "outputs": [],
   "source": [
    "def checkSum(sequence):\n",
    "    sum = 0\n",
    "    sumDict = {\"A\": 5, \"G\": 10, \"C\": 15, \"T\":20}\n",
    "    for i in range(len(sequence)):\n",
    "        if sequence[i] is not \"-\":\n",
    "            sum += i*sumDict[sequence[i]]\n",
    "    return sum"
   ]
  },
  {
   "cell_type": "code",
   "execution_count": 21,
   "metadata": {
    "collapsed": false
   },
   "outputs": [
    {
     "name": "stdout",
     "output_type": "stream",
     "text": [
      "1620\n"
     ]
    }
   ],
   "source": [
    "true_checkSum = checkSum(sequence)\n",
    "print(true_checkSum)\n",
    "\n",
    "#getting checksums of all sequences in the data list \n",
    "checkSumMarkov = list(map(checkSum, data))\n",
    "\n",
    "#zipping together the checksums and their corresponding sequences \n",
    "zip_cs_marko = list(zip(checkSumMarkov, data))"
   ]
  },
  {
   "cell_type": "code",
   "execution_count": 22,
   "metadata": {
    "collapsed": false
   },
   "outputs": [
    {
     "data": {
      "image/png": "[encoded data removed]",
      "text/plain": [
       "<matplotlib.figure.Figure at 0x116aba310>"
      ]
     },
     "metadata": {},
     "output_type": "display_data"
    }
   ],
   "source": [
    "plt.figure()\n",
    "ax = sns.distplot(checkSumMarkov)"
   ]
  },
  {
   "cell_type": "code",
   "execution_count": 23,
   "metadata": {
    "collapsed": false
   },
   "outputs": [],
   "source": [
    "#getting list of sequences with checksums within a certain range \n",
    "tight = []\n",
    "for i in zip_cs_marko:\n",
    "    if i[0] < 1000:\n",
    "        tight.append(i)\n",
    "    "
   ]
  },
  {
   "cell_type": "code",
   "execution_count": 24,
   "metadata": {
    "collapsed": true
   },
   "outputs": [],
   "source": [
    "#reconstructing from \"tight\" data\n",
    "def reconstruct(seqList):\n",
    "    reconstructed_sequence = seqList[0][1]\n",
    "    for sequence in seqList:\n",
    "        for i in range(len(sequence[1])):\n",
    "            if (reconstructed_sequence[i] is \"-\") & (sequence[1][i] is not \"-\"):\n",
    "                reconstructed_sequence = reconstructed_sequence[:i] + sequence[1][i] + reconstructed_sequence[i+1:]\n",
    "    return reconstructed_sequence"
   ]
  },
  {
   "cell_type": "code",
   "execution_count": 25,
   "metadata": {
    "collapsed": false
   },
   "outputs": [
    {
     "name": "stdout",
     "output_type": "stream",
     "text": [
      "ACTGATCGTAGCAGTAC\n"
     ]
    }
   ],
   "source": [
    "print(reconstruct(tight))\n"
   ]
  },
  {
   "cell_type": "code",
   "execution_count": null,
   "metadata": {
    "collapsed": true
   },
   "outputs": [],
   "source": []
  }
 ],
 "metadata": {
  "kernelspec": {
   "display_name": "Python 2",
   "language": "python",
   "name": "python2"
  },
  "language_info": {
   "codemirror_mode": {
    "name": "ipython",
    "version": 2
   },
   "file_extension": ".py",
   "mimetype": "text/x-python",
   "name": "python",
   "nbconvert_exporter": "python",
   "pygments_lexer": "ipython2",
   "version": "2.7.13"
  }
 },
 "nbformat": 4,
 "nbformat_minor": 2
}
